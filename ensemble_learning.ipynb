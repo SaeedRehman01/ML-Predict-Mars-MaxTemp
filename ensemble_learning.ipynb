{
 "cells": [
  {
   "cell_type": "code",
   "execution_count": 1,
   "id": "b865165e",
   "metadata": {},
   "outputs": [],
   "source": [
    "import pandas as pd\n",
    "import numpy as np\n",
    "\n",
    "from sklearn.model_selection import train_test_split\n",
    "from sklearn.ensemble import BaggingRegressor\n",
    "from sklearn.ensemble import RandomForestRegressor, StackingRegressor\n",
    "from sklearn.tree import DecisionTreeRegressor\n",
    "from sklearn.linear_model import LinearRegression\n",
    "from sklearn.preprocessing import LabelEncoder, MinMaxScaler\n",
    "from sklearn.metrics import mean_absolute_error, mean_squared_error, r2_score"
   ]
  },
  {
   "cell_type": "code",
   "execution_count": 2,
   "id": "9e69979a",
   "metadata": {},
   "outputs": [],
   "source": [
    "df = pd.read_csv('mars-weather.csv')\n",
    "\n",
    "# Drop\n",
    "df = df.drop('wind_speed', axis=1)\n",
    "df = df.drop('atmo_opacity', axis=1)\n",
    "df = df.dropna()"
   ]
  },
  {
   "cell_type": "code",
   "execution_count": 3,
   "id": "1481758c",
   "metadata": {},
   "outputs": [],
   "source": [
    "df['terrestrial_date'] = pd.to_datetime(df['terrestrial_date'])\n",
    "# Extract year, month and day\n",
    "df['terrestrial_date_year'] = df['terrestrial_date'].dt.year\n",
    "df['terrestrial_date_month'] = df['terrestrial_date'].dt.month\n",
    "df['terrestrial_date_day'] = df['terrestrial_date'].dt.day\n",
    "# Drop the original 'terrestrial_date' column\n",
    "df = df.drop(['terrestrial_date'], axis=1)\n",
    "\n",
    "# Convert 'month' from categorical to numerical\n",
    "le = LabelEncoder()\n",
    "df['month'] = le.fit_transform(df['month'])\n",
    "\n",
    "features = df.drop(['max_temp'], axis=1)\n",
    "# Define Target\n",
    "target = df['max_temp']"
   ]
  },
  {
   "cell_type": "code",
   "execution_count": 4,
   "id": "dcf43ca1",
   "metadata": {},
   "outputs": [],
   "source": [
    "# Split the data into train and test sets\n",
    "X_train, X_test, y_train, y_test = train_test_split(features, target, test_size=0.2)"
   ]
  },
  {
   "cell_type": "markdown",
   "id": "90e8e712",
   "metadata": {},
   "source": [
    "## Bagging"
   ]
  },
  {
   "cell_type": "code",
   "execution_count": 5,
   "id": "8d04b3fe",
   "metadata": {},
   "outputs": [
    {
     "name": "stdout",
     "output_type": "stream",
     "text": [
      "\n",
      "Bagging Random Forest Regression Train:\n",
      "Mean Absolute Error (MAE): 1.6143890201582702\n",
      "Mean Squared Error (MSE): 4.319229108742608\n",
      "R2 Score: 0.9622912419754356\n",
      "\n",
      "Bagging Random Forest Regression Test:\n",
      "Mean Absolute Error (MAE): 2.297130652743435\n",
      "Mean Squared Error (MSE): 8.921980735368676\n",
      "R2 Score: 0.9216723138178569\n",
      "\n",
      "Bagging Decision Tree Regression Train:\n",
      "Mean Absolute Error (MAE): 1.8571012243893763\n",
      "Mean Squared Error (MSE): 5.9142010057063175\n",
      "R2 Score: 0.9483664401637312\n",
      "\n",
      "Bagging Decision Tree Regression Test:\n",
      "Mean Absolute Error (MAE): 2.3105219375937676\n",
      "Mean Squared Error (MSE): 9.041579508858351\n",
      "R2 Score: 0.920622334505468\n"
     ]
    }
   ],
   "source": [
    "# Bagging Regressor Ensemble of RandomForestRegressor and DecisionTreeRegressor\n",
    "random_forest_model = RandomForestRegressor(max_depth=10, min_samples_leaf=1, min_samples_split=2, n_estimators=500)\n",
    "decision_tree_model = DecisionTreeRegressor(max_depth=10, min_samples_leaf=5, min_samples_split=15)\n",
    "\n",
    "# Bagging Regressors\n",
    "bagging_random_forest_model = BaggingRegressor(base_estimator=random_forest_model, n_estimators=10)\n",
    "bagging_decision_tree_model = BaggingRegressor(base_estimator=decision_tree_model, n_estimators=10)\n",
    "\n",
    "# Fit the models\n",
    "bagging_random_forest_model.fit(X_train, y_train)\n",
    "bagging_decision_tree_model.fit(X_train, y_train)\n",
    "\n",
    "# Predict\n",
    "brf_predictions_train = bagging_random_forest_model.predict(X_train)\n",
    "brf_predictions_test = bagging_random_forest_model.predict(X_test)\n",
    "bdt_predictions_train = bagging_decision_tree_model.predict(X_train)\n",
    "bdt_predictions_test = bagging_decision_tree_model.predict(X_test)\n",
    "\n",
    "# Evaluate\n",
    "print(\"\\nBagging Random Forest Regression Train:\")\n",
    "print(\"Mean Absolute Error (MAE):\", mean_absolute_error(y_train, brf_predictions_train))\n",
    "print(\"Mean Squared Error (MSE):\", mean_squared_error(y_train, brf_predictions_train))\n",
    "print(\"R2 Score:\", r2_score(y_train, brf_predictions_train))\n",
    "\n",
    "print(\"\\nBagging Random Forest Regression Test:\")\n",
    "print(\"Mean Absolute Error (MAE):\", mean_absolute_error(y_test, brf_predictions_test))\n",
    "print(\"Mean Squared Error (MSE):\", mean_squared_error(y_test, brf_predictions_test))\n",
    "print(\"R2 Score:\", r2_score(y_test, brf_predictions_test))\n",
    "\n",
    "print(\"\\nBagging Decision Tree Regression Train:\")\n",
    "print(\"Mean Absolute Error (MAE):\", mean_absolute_error(y_train, bdt_predictions_train))\n",
    "print(\"Mean Squared Error (MSE):\", mean_squared_error(y_train, bdt_predictions_train))\n",
    "print(\"R2 Score:\", r2_score(y_train, bdt_predictions_train))\n",
    "\n",
    "print(\"\\nBagging Decision Tree Regression Test:\")\n",
    "print(\"Mean Absolute Error (MAE):\", mean_absolute_error(y_test, bdt_predictions_test))\n",
    "print(\"Mean Squared Error (MSE):\", mean_squared_error(y_test, bdt_predictions_test))\n",
    "print(\"R2 Score:\", r2_score(y_test, bdt_predictions_test))\n"
   ]
  },
  {
   "cell_type": "markdown",
   "id": "926b80d1",
   "metadata": {},
   "source": [
    "## Stacking "
   ]
  },
  {
   "cell_type": "code",
   "execution_count": 6,
   "id": "043fa0ae",
   "metadata": {},
   "outputs": [
    {
     "name": "stdout",
     "output_type": "stream",
     "text": [
      "\n",
      "Stacking Model Train:\n",
      "Mean Absolute Error (MAE): 1.3022687308887433\n",
      "Mean Squared Error (MSE): 2.835012995696876\n",
      "R2 Score: 0.975249097382947\n",
      "\n",
      "Stacking Model Test:\n",
      "Mean Absolute Error (MAE): 2.306631883175745\n",
      "Mean Squared Error (MSE): 9.074220314617973\n",
      "R2 Score: 0.9203357749548363\n"
     ]
    }
   ],
   "source": [
    "# Base models\n",
    "base_models = [\n",
    "               (\"rf_model\",  RandomForestRegressor(max_depth=10, min_samples_leaf=1, min_samples_split=2, n_estimators=500)),\n",
    "               (\"dt_model\",DecisionTreeRegressor(max_depth=10, min_samples_leaf=5, min_samples_split=15)),\n",
    "              ]\n",
    "\n",
    "# Final model or meta model\n",
    "final_model = LinearRegression()\n",
    "\n",
    "# Stacked model\n",
    "stacked_model = StackingRegressor(estimators=base_models, final_estimator=final_model)\n",
    "\n",
    "# Fit the stacked model\n",
    "stacked_model.fit(X_train, y_train)\n",
    "\n",
    "# Predict\n",
    "stacked_predictions_train = stacked_model.predict(X_train)\n",
    "stacked_predictions_test = stacked_model.predict(X_test)\n",
    "\n",
    "# Evaluate\n",
    "print(\"\\nStacking Model Train:\")\n",
    "print(\"Mean Absolute Error (MAE):\", mean_absolute_error(y_train, stacked_predictions_train))\n",
    "print(\"Mean Squared Error (MSE):\", mean_squared_error(y_train, stacked_predictions_train))\n",
    "print(\"R2 Score:\", r2_score(y_train, stacked_predictions_train))\n",
    "print(\"\\nStacking Model Test:\")\n",
    "print(\"Mean Absolute Error (MAE):\", mean_absolute_error(y_test, stacked_predictions_test))\n",
    "print(\"Mean Squared Error (MSE):\", mean_squared_error(y_test, stacked_predictions_test))\n",
    "print(\"R2 Score:\", r2_score(y_test, stacked_predictions_test))\n"
   ]
  },
  {
   "cell_type": "code",
   "execution_count": null,
   "id": "71d480da",
   "metadata": {},
   "outputs": [],
   "source": []
  },
  {
   "cell_type": "code",
   "execution_count": null,
   "id": "bfeba36d",
   "metadata": {},
   "outputs": [],
   "source": []
  },
  {
   "cell_type": "code",
   "execution_count": null,
   "id": "9d9b8ad5",
   "metadata": {},
   "outputs": [],
   "source": []
  }
 ],
 "metadata": {
  "kernelspec": {
   "display_name": "Python 3 (ipykernel)",
   "language": "python",
   "name": "python3"
  },
  "language_info": {
   "codemirror_mode": {
    "name": "ipython",
    "version": 3
   },
   "file_extension": ".py",
   "mimetype": "text/x-python",
   "name": "python",
   "nbconvert_exporter": "python",
   "pygments_lexer": "ipython3",
   "version": "3.9.13"
  }
 },
 "nbformat": 4,
 "nbformat_minor": 5
}
